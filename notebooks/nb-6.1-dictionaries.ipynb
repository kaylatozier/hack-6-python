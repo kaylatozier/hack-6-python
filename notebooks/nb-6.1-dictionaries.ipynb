{
 "cells": [
  {
   "cell_type": "markdown",
   "metadata": {},
   "source": [
    "# Notebook 6.0: Python dictionaries\n",
    "\n",
    "\n",
    "## Learning objectives: \n",
    "By the end of this notebook you should be able to:\n",
    "1. Recognize the use cases for Python dictionaries.\n",
    "2. Be able to create and use Python dictionaries."
   ]
  },
  {
   "cell_type": "markdown",
   "metadata": {},
   "source": [
    "## Importing python libraries\n",
    "Here we will use a new module from the standard library, the `random` module (library and module are often used interchangeably as names for these). This provides functionality for sampling random variables."
   ]
  },
  {
   "cell_type": "code",
   "execution_count": 1,
   "metadata": {},
   "outputs": [],
   "source": [
    "import random"
   ]
  },
  {
   "cell_type": "code",
   "execution_count": 2,
   "metadata": {},
   "outputs": [
    {
     "data": {
      "text/plain": [
       "6"
      ]
     },
     "execution_count": 2,
     "metadata": {},
     "output_type": "execute_result"
    }
   ],
   "source": [
    "# example: sample a random integer between 5 and 10\n",
    "random.randint(5, 10)"
   ]
  },
  {
   "cell_type": "markdown",
   "metadata": {},
   "source": [
    "## Introduction to Python dictionaries\n",
    "\n",
    "Dictionaries are one of the most useful object types in Python. They provide a mapping between (`key`, `value`) pairs, and represent a fast and efficient way of creating look-up tables. A simple example use for a dictionary would be something like mapping names to phone numbers or addresses. In biology, you might map sample names to a measurement. Using the dictionary we could then query a `key` (e.g., a sample name) and it will return the `value` associated with that key (e.g., the measurement). \n",
    "\n",
    "While the idea of \"looking up\" the value associated with a key might sound slow, in the realm of computational operations, it turns out that under certain designs it can be one of the fastest things possible in a language. Python uses a method called \"hashing\" to store the value associated with a key. This is the same approach it uses when you create *any* variable in Python and ask to retrieve its value. For this reason, storing and retrieving information from dictionaries is actually one of the fastest and most efficient methods to use in Python. Much faster than using lists to store and retrieve data, for example. Once you master dictionaries you'll find yourself using them all the time. "
   ]
  },
  {
   "cell_type": "markdown",
   "metadata": {},
   "source": [
    "### Hashing and speed\n",
    "The Python documentation on dictionaries has an aside about `hashtables`. The details of this are fascinating, but fairly dense reading, and I would say that it is not fully necessary to understand hashtables in order to understand Python programming. Nevertheless, a cursory understanding of the concept of hashing can be useful for understanding why Python `set` and `dictionary` objects are so fast. \n",
    "\n",
    "The main concept is that they store elements as a `hashed` value for lookup. This simply means that they use the function `hash()` to convert the element to an integer. This makes it easy to compare whether two elements are the same by simply asking whether the integer is the same. \n"
   ]
  },
  {
   "cell_type": "code",
   "execution_count": 3,
   "metadata": {},
   "outputs": [
    {
     "data": {
      "text/plain": [
       "5745432631243567074"
      ]
     },
     "execution_count": 3,
     "metadata": {},
     "output_type": "execute_result"
    }
   ],
   "source": [
    "# hash converts an object to an int\n",
    "hash(\"this string here\")"
   ]
  },
  {
   "cell_type": "code",
   "execution_count": 4,
   "metadata": {},
   "outputs": [
    {
     "data": {
      "text/plain": [
       "3540051441503256215"
      ]
     },
     "execution_count": 4,
     "metadata": {},
     "output_type": "execute_result"
    }
   ],
   "source": [
    "# every object will have a unique int\n",
    "hash(\"this string too\")"
   ]
  },
  {
   "cell_type": "code",
   "execution_count": 5,
   "metadata": {},
   "outputs": [
    {
     "data": {
      "text/plain": [
       "True"
      ]
     },
     "execution_count": 5,
     "metadata": {},
     "output_type": "execute_result"
    }
   ],
   "source": [
    "# objects that are the same have the same hash value\n",
    "x = \"this string too\"\n",
    "y = \"this string too\"\n",
    "hash(x) == hash(y)"
   ]
  },
  {
   "cell_type": "markdown",
   "metadata": {},
   "source": [
    "### Searching hashed values is *orders of magnitude* faster than searching a list\n",
    "Below we compare the time it takes to search for a single value (the integer 650,000) in a list versus dictionary. Because the dictionary key values are hashed the time to lookup the match is significantly faster. For this reason, no matter how big a dictionary gets the time it takes to find and return a (key, value) pair does not increase significantly. A list, on the other hand, is not efficient to search as it grows very large. \n",
    "\n",
    "\n",
    "Below we use the `%%timeit` magic command (this is a feature of jupyter, like the %%bash magic that allows us to execture bash code in jupyter cells) to calculate how long different commands take to run. "
   ]
  },
  {
   "cell_type": "code",
   "execution_count": 6,
   "metadata": {},
   "outputs": [],
   "source": [
    "## searching for a number in a list\n",
    "long_list_of_numbers = list(range(int(1e6)))"
   ]
  },
  {
   "cell_type": "code",
   "execution_count": 7,
   "metadata": {},
   "outputs": [
    {
     "name": "stdout",
     "output_type": "stream",
     "text": [
      "5.65 ms ± 31.2 µs per loop (mean ± std. dev. of 7 runs, 100 loops each)\n"
     ]
    }
   ],
   "source": [
    "%%timeit\n",
    "# computes boolean of whether some number is in the list\n",
    "650000 in long_list_of_numbers"
   ]
  },
  {
   "cell_type": "code",
   "execution_count": 8,
   "metadata": {},
   "outputs": [],
   "source": [
    "## dictionary keys \n",
    "big_dictionary = {i: random.randint(0, 5) for i in range(int(1e6))}"
   ]
  },
  {
   "cell_type": "code",
   "execution_count": 9,
   "metadata": {},
   "outputs": [
    {
     "name": "stdout",
     "output_type": "stream",
     "text": [
      "45.9 ns ± 0.597 ns per loop (mean ± std. dev. of 7 runs, 10000000 loops each)\n"
     ]
    }
   ],
   "source": [
    "%%timeit\n",
    "# computes boolean of whether some number is in the dict keys\n",
    "big_dictionary.get(6500000)"
   ]
  },
  {
   "cell_type": "markdown",
   "metadata": {},
   "source": [
    "### Creating dictionary objects\n",
    "You can create a dictionary object by using either the `dict()` function, or by enclosing dictionary data inside of curly brackets. Both examples are shown below. The second form is more commonly used so I will use that in all following examples. In the curly bracket format `keys` are matched with `values` by a colon, and `key/value` pairs are separated by commas. \n",
    "\n",
    "The keys of a dictionary can be made up of any mutable object (pretty much anything but a list). The values can be anything, including a list. In this example we create dictionaries mapping string to other strings. "
   ]
  },
  {
   "cell_type": "code",
   "execution_count": 6,
   "metadata": {},
   "outputs": [],
   "source": [
    "# make a dict from a list of key,val pairs\n",
    "d1 = dict((('key1', 'val1'), ('key2', 'val2')))\n",
    "\n",
    "# make a dict using the simpler curly bracket format\n",
    "d2 = {'key1': 'val1', 'key2': 'val2'}"
   ]
  },
  {
   "cell_type": "code",
   "execution_count": 7,
   "metadata": {},
   "outputs": [
    {
     "data": {
      "text/plain": [
       "{'key1': 'val1', 'key2': 'val2'}"
      ]
     },
     "execution_count": 7,
     "metadata": {},
     "output_type": "execute_result"
    }
   ],
   "source": [
    "# return the dictionary\n",
    "d2"
   ]
  },
  {
   "cell_type": "markdown",
   "metadata": {},
   "source": [
    "### Query a dictionary value\n",
    "To query a dictionary you provide a `key` to the dictionary as an index (in square brackets), and it will return the matching `value`. "
   ]
  },
  {
   "cell_type": "code",
   "execution_count": 12,
   "metadata": {},
   "outputs": [
    {
     "data": {
      "text/plain": [
       "'val1'"
      ]
     },
     "execution_count": 12,
     "metadata": {},
     "output_type": "execute_result"
    }
   ],
   "source": [
    "d2['key1']"
   ]
  },
  {
   "cell_type": "markdown",
   "metadata": {},
   "source": [
    "### Common use case\n",
    "A common way to work with dictionaries is to start with an empty dictionary at the beginning of an iteration (e.g., a for-loop) and to fill elements of the dictionary as you iterate over elements of the list. Dictionaries are useful for this because you can quickly query whether an element that you visit in the iteration is already in the dictionary or not. Let's consider an example where we use a dictionary as a counter to create a histogram. We'll store names as keys, and integers as values. \n",
    "\n",
    "In the example below we iterate over a list of random numbers and then apply a conditional if/else statement to either create a new key value pair in the dictionary, or to increment the value if the key is already in the dictionary. "
   ]
  },
  {
   "cell_type": "code",
   "execution_count": 10,
   "metadata": {},
   "outputs": [],
   "source": [
    "# sample sample 1000 random integers\n",
    "integer_list = [random.randint(0, 10) for i in range(1000)]\n",
    "# create an empty dictionary\n",
    "counter = {}\n",
    "\n",
    "# iterate over every number in the integer_list\n",
    "for item in integer_list:\n",
    "    \n",
    "    # if the number is not yet in the counter dict, add it as a key w/ value=1\n",
    "    if item not in counter:\n",
    "        counter[item] = 1\n",
    "    \n",
    "    # if the number is already in the counter dict then increment the value + 1 \n",
    "    else:\n",
    "        counter[item] += 1"
   ]
  },
  {
   "cell_type": "markdown",
   "metadata": {},
   "source": [
    "### The resulting `counter` dictionary\n",
    "The code above iterated over every element in a list of 1000 random values selected in the range 1-10, and counted how many times each occurred. In other words, we created a histogram. \n",
    "\n",
    "Below we can return the dictionary and see that is shows a number of keys and their mapped values. The results are not sorted and/or super easy to read. In the next cell, we can instead query the keys in the order we wish to see them in order to display the results more clearly and ordered. "
   ]
  },
  {
   "cell_type": "code",
   "execution_count": 11,
   "metadata": {},
   "outputs": [
    {
     "name": "stdout",
     "output_type": "stream",
     "text": [
      "{5: 87, 0: 89, 2: 88, 3: 90, 7: 94, 1: 92, 8: 99, 4: 78, 6: 73, 9: 110, 10: 100}\n"
     ]
    }
   ],
   "source": [
    "# return the dictionary results\n",
    "print(counter)"
   ]
  },
  {
   "cell_type": "code",
   "execution_count": 15,
   "metadata": {},
   "outputs": [
    {
     "name": "stdout",
     "output_type": "stream",
     "text": [
      "0 94\n",
      "1 120\n",
      "2 103\n",
      "3 94\n",
      "4 90\n",
      "5 88\n",
      "6 101\n",
      "7 82\n",
      "8 77\n",
      "9 78\n"
     ]
    }
   ],
   "source": [
    "# return dictionary results in a queried order\n",
    "\n",
    "# iterate over the keys in the dictionary (integers 1-10)\n",
    "for i in range(10):\n",
    "    \n",
    "    # print the key and value\n",
    "    print(i, counter[i])"
   ]
  },
  {
   "cell_type": "code",
   "execution_count": 16,
   "metadata": {},
   "outputs": [
    {
     "name": "stdout",
     "output_type": "stream",
     "text": [
      "0 94\n",
      "1 120\n",
      "2 103\n",
      "3 94\n",
      "4 90\n",
      "5 88\n",
      "6 101\n",
      "7 82\n",
      "8 77\n",
      "9 78\n",
      "10 73\n"
     ]
    }
   ],
   "source": [
    "# another way to do the same thing\n",
    "\n",
    "# iterate over the keys which we know are 1-10\n",
    "for key in sorted(counter.keys()):\n",
    "    \n",
    "    # print the key and value\n",
    "    print(key, counter[key])"
   ]
  },
  {
   "cell_type": "markdown",
   "metadata": {},
   "source": [
    "### Interpreting code"
   ]
  },
  {
   "cell_type": "markdown",
   "metadata": {},
   "source": [
    "<div class=\"alert alert-success\">\n",
    "    <b>Action [1]:</b> \n",
    "        In a code cell below describe what is happening on each line of the code by writing a comment above each line of code where I have written \"# comment:\". If you get stuck, try asking for help in the chatroom.  \n",
    "</div>"
   ]
  },
  {
   "cell_type": "code",
   "execution_count": 15,
   "metadata": {},
   "outputs": [
    {
     "name": "stdout",
     "output_type": "stream",
     "text": [
      "['a', 's', 'e', 'r', 'o', 'l', 'y', 'o', 'C', 'u', 'U', 'v', 'n', 'u', 'i', 'C', 'U', 'u', 'a', 'b', 'i', 'i', 'U', 'C', 't', 'v', 'U', 'i', 'i', 'u', 'm', 'e', 'o', 'v', 'm', 'U', 'r', 'v', 'a', 'v', 'u', 'e', ' ', 'o', 'i', 'i', 'C', 'v', ' ', 'y', 'a', 'e', ' ', 'o', 'a', 'n', 'o', 'v', 'y', 'o', 'C', 'l', 'o', 'i', 'i', 'i', 'U', 'm', 'r', 'u', 'b', 'U', 'r', 'C', 'u', 'l', 'o', 'a', 'm', 't', 'y', 'n', 'i', 't', 'i', 's', 'o', 'n', 'e', 'n', 'l', ' ', 'y', 'm', 'u', 'b', 'C', 'y', 't', 't', 'v', 'y', 't', 'C', 'U', 'U', 'r', 'C', ' ', 'C', 'r', 'o', 'U', 'l', 'a', 'n', 'r', 'o', 'a', ' ', 's', 'r', ' ', 'r', 'm', 'u', 'C', 'C', 'i', 'n', 'i', 'C', 'b', ' ', 'e', 'o', 'U', 'e', 'm', 's', 'i', 'b', 'C', 'v', 'l', ' ', 'b', 'u', 'y', 'm', 'm', 'i', 'i', 'e', 'r', 'b', 'r', 'n', 'u', 'l', 'i', 't', 'v', 'l', 'm', 'b', 'u', 't', 'i', 'b', 'b', 'e', 'i', 'o', 'i', 'v', 'n', 'a', 'n', ' ', 'v', ' ', 'l', 'o', 't', 'y', 'U', 'm', 'm', 'C', 'v', 't', 's', 'C', 'i', 's', 'U', 'i', 'r', 'i', 's', 'a', 't', 'n', 'l', ' ', 'o', 'i', 't', 'o', 'o', 'i', 'r', 'r', 'i', 'a', 'm', 'i', 'i', ' ', 's', 'u', 'e', 'b', 'b', 'i', 'U', 'v', 'U', 'i', 'r', 'U', 'u', 'm', 'i', 'C', 'u', 'm', 'v', 'e', 'i', ' ', 'u', 'y', 'b', 'a', 'i', 'l', 'm', 'i', 'v', ' ', 'm', 's', 'o', 'l', 'o', 'e', 'b', 'e', 'u', 'n', 'C', 'i', 's', 'o', 'r', 'n', 'r', 'u', 'n', 'i', 'r', 'i', 'b', 'U', 'e', 'i', ' ', 'i', 'C', 'u', 'o', 'm', 'n', 'l', 'v', 's', 'i', 's', 'o', 'i', 'm', 'U', ' ', 'o', 'a', 'u', 'U', 'U', 'i', 's', 'C', 'e', 'r', 'v', 'r', 'i', 'o', 'v', 'o', ' ', 'u', 'm', 'i', 'i', 'b', 't', 'i', 'i', 'm', 'l', 'y', 'b', 'o', 'U', 'u', 's', 'u', 't', ' ', 'v', 's', 'u', 'n', 'a', 'v', 'C', 'C', 'y', 'i', 'v', 'v', 'n', 'b', 'm', 'i', 'y', 's', 'u', 's', 'i', 'i', 'U', 'm', 'y', ' ', 'C', ' ', 'r', 'i', 't', 'l', 'u', 'n', 'y', 'i', 'v', 'u', 'm', 'b', 'v', 'i', 'b', 'U', 'u', 'y', 'b', 'i', 'U', 'v', 'a', 'C', 'i', 'a', 'l', 'o', 'o', 'i', 'a', 'C', 'r', 't', 'i', 'e', 'b', 'U', 'i', ' ', 'i', 's', 'm', 'C', 'a', 'y', 'u', 'e', 'l', 't', 'v', 'r', 'r', 's', 'o', 'i', 'r', 'r', 'i', 'U', 'y', 'm', 'e', 'v', 'y', 'v', 'C', 'm', 't', 'l', 'a', 'i', 'i', 'U', ' ', 'm', 'r', 'v', 'e', 'U', 'i', 'e', 't', 'i', 'l', 't', 'C', 'l', 'b', 'U', 'l', 'i', 'i', 'i', 'r', 's', 'C', 'i', 'i', 'n', 't', 'i', 'r', 'U', 'i', 'o', 'i', 'u', 'r', 'i', 's', 'i', 'o', 'i', 'i', ' ', ' ', 'C', 'C', 'i', 'o', 'l', 'i', 'i', 'n', 'a', 'C', 'r', 'n', ' ', 'y', 'i', 'u', 'a', 'U', ' ', 'y', 't', 'i', 'o', 'v', 'u', 'i', 'i', ' ', 't', 'i', 'i', 'm', 'l', 'n', ' ', 'u', 'y', 'i', 'o', ' ', 'a', 'U', 'r', 'm', 'u', 'y', 'C', 'a', 'o', 'v', 'l', 'r', 'e', 'a', 'a', 'i', 'b', 'y', 'v', 'y', 'r', 'i', 'b', 'b', 'i', 'v', 't', 'u', 'i', 'v', 'y', 'r', 't', 'i', 'i', 'e', 'u', 'l', 'a', 'y', 's', 'i', ' ', 'i', 't', 's', 'n', ' ', 'r', 'i', 't', 'i', 'v', 'l', 'b', 'i', 'C', 'e', 'e', ' ', 'U', 't', 'r', 'l', 'b', 'e', 'b', 'U', 'l', 'U', 'o', 'n', 'a', 't', 'U', 'r', 'b', 's', 's', 'i', 'o', 'a', 'C', 'v', ' ', 'n', 'i', 'i', 'u', 's', 'l', 'b', 'o', 'i', 'b', 'm', 'b', 'u', 'n', 'i', 'a', 'U', 'u', 'U', 'C', 'a', 'i', 'U', 'a', 't', 'o', 'a', 'm', 'b', 'l', 's', 'y', 'e', 'i', 'i', 'o', 'v', 'U', 'a', 'r', 'i', 'n', 's', 'C', 'v', 'C', 's', 's', 'v', 't', 'u', 'l', 'm', 'n', 'v', 'm', 'i', 'l', 'r', 'r', 'i', 'i', 's', 'i', 'n', 'a', 'u', 'i', 'u', 'e', 'o', 'U', 'b', 'n', 'r', 'i', 't', ' ', ' ', 'i', 'o', 'u', 'v', 'v', 'b', 'm', 'o', 'm', 'n', 'a', 'r', 'u', 'r', 'o', 'i', 'l', 'o', 'l', 'l', 'U', 'i', 'U', 'l', 'e', 'i', ' ', 'm', 'i', 'i', 'i', 'v', 'v', 'b', 'y', 'o', 'a', 'i', 'v', 's', 'b', 'U', 'm', 'i', 'i', 'b', 'n', 'n', 'n', 'e', 'b', 'v', 't', 'i', 'C', 'y', 'i', 't', 'r', ' ', 'r', 's', 'y', 't', 'u', 'y', 'a', 'y', 'C', 's', 'i', 'e', 'U', 'l', 'e', 'i', 'u', 'm', 't', 'y', 'u', ' ', 'C', 'm', 'i', 'U', 'u', 'r', 'o', 'o', 'e', 'o', 'i', 'b', 'u', 'o', 'i', 'm', 'a', 'a', ' ', 'C', 'C', ' ', 'o', 'm', 'n', 'y', 'm', 'n', 'e', 'o', 'o', 'e', 'n', 'o', 'l', 'v', 'm', 'u', 'i', 'l', 'a', 'b', 'v', 'l', 'y', 'o', 't', 'e', 'u', 'U', 'u', 'a', 't', 'l', 'i', 'r', 'b', 't', 'U', 'o', ' ', 'a', 'i', 'a', 'b', 'a', 'i', 'b', 't', 'b', 'u', 'a', 'e', 'b', 'y', 'l', 'v', 'C', 'y', 'm', 'u', 'm', 'o', 'C', 'r', 's', 'i', 'i', 'i', 'i', 'u', 'C', 'b', 'a', 'r', 'r', 'u', 't', 'U', 'e', 's', 'b', ' ', 'n', 'b', 'U', 'i', 'i', 'a', 'r', 'y', 'v', 's', 'i', 'C', 'm', 'r', 'l', 't', 'i', 'y', 's', ' ', 'i', 'l', 'b', ' ', 'l', 'n', 'y', 'u', 'a', 'a', 'u', 'l', 'C', 'C', 'r', 'y', 't', 'n', 'i', 'l', 'i', 'i', 't', 'y', 't', 'b', 'i', 'v', 'l', 'b', 'u', 'o', 'a', ' ', 'U', 'e', 'i', 'e', ' ', 's', 'r', 'i', 's', 'n', 'i', 'l', 'a', 'o', 't', 'a', 'r', 'u', 'y', ' ', ' ', 'o', 'y', 'r', 'r', 'o', 'e', 'i', 's', 'y', 'l', 's', 'i', 'e', ' ', 'i', 'l', 'v', 'C', 'i', 'i', 'n', 'm', 'i', 'r', 'r', 'r', 's', 'm', 'i', 'm', 'a', 'a', 'y', 'u', ' ', 'm', 'U', 's', 'o', 'u', 'm', 'v', 'l', 's', 'y', 'v', 'm', 'v', 't', 'y', 'b', 'i', 'e', 'v', 'o', 'i', 'u', 'b', 'o', ' ']\n",
      "{'lowercase': 846, 'uppercase': 154}\n"
     ]
    }
   ],
   "source": [
    "# comment: importing the random program in order ot be able to randomize values within the code\n",
    "import random\n",
    "\n",
    "# comment: using the random.choice function to randomly select a letter in \"Columbia University\" 1000 times\n",
    "integer_list = [random.choice(\"Columbia University\") for i in range(1000)]\n",
    "#print the integer_list to make sure that it does contain 1000 characters randomly from the string \"Columbia University\"\n",
    "print(integer_list)\n",
    "\n",
    "# comment: creating a dictionary called 'counter' that will keep track of how many times the random.choice produces a lowercase versus uppercase letter from 'Columbia University'\n",
    "counter = {'lowercase': 0, 'uppercase': 0}\n",
    " \n",
    "# comment: writing a loop that will iterate over all of the characters in integer_list one by one\n",
    "for item in integer_list:\n",
    "    \n",
    "    # comment: if the character in the list of characters is lowercase, it will add one value to the value with a key of 'lowercase' and names that key 'lowercase'\n",
    "    if item.islower():\n",
    "        # comment: \n",
    "        counter['lowercase'] += 1\n",
    "\n",
    "    # comment: if the character is not lowercase, it will move to this statement\n",
    "    else:\n",
    "        # comment: with the remaining characters that do not fit the first condition, it will add a new key with the name 'uppercase' and add a 1 to value everytime a character meets this condition\n",
    "        counter['uppercase'] += 1\n",
    "#prints the number of uppercase and lowercase values in the list of random characters from \"Columbia University\"\n",
    "print(counter)"
   ]
  },
  {
   "cell_type": "markdown",
   "metadata": {},
   "source": [
    "<div class=\"alert alert-info\">\n",
    "    <b>A side note on using tab-completion in jupyter.</b> When you write code to assign an object to a variable name inside of a code block, but you have not executed that code yet, then the object has not yet been assigned to the variable name. This will prevent tab-completion from being able to show you attributes of the object yet. If you find tab-completion not working for you, try to execute the cell and type the object that you want to explore in the next cell to explore it with tab-completion. \n",
    "    </div>"
   ]
  },
  {
   "cell_type": "markdown",
   "metadata": {},
   "source": [
    "## Dictionary attributes/features\n",
    "\n",
    "Like other objects in Python, dictionaries have a number of functions and attributes associated with them that you can access by placing a dot after the dictionary name, and typing [tab]. Let's create an example below of a dictionary that stores a list of lists as values. Below we explain the `.keys()`, `.items()`, and `.values()` functions of dictionaries which can be used to return its data. "
   ]
  },
  {
   "cell_type": "code",
   "execution_count": 21,
   "metadata": {},
   "outputs": [],
   "source": [
    "# lists of names and data\n",
    "individuals = ['sample-1', 'sample-2', 'sample-3', 'sample-4']\n",
    "trait1 = [56, 76, 22, 21]\n",
    "trait2 = ['green', 'green', 'red', 'red']\n",
    "trait3 = ['angry', 'docile', 'angry', 'docile']\n",
    "\n",
    "# create a dictionary mapping multiple traits to each species\n",
    "datadict = {}\n",
    "for i in range(4):\n",
    "    datadict[individuals[i]] = [trait1[i], trait2[i], trait3[i]]"
   ]
  },
  {
   "cell_type": "code",
   "execution_count": 22,
   "metadata": {},
   "outputs": [
    {
     "data": {
      "text/plain": [
       "{'sample-1': [56, 'green', 'angry'],\n",
       " 'sample-2': [76, 'green', 'docile'],\n",
       " 'sample-3': [22, 'red', 'angry'],\n",
       " 'sample-4': [21, 'red', 'docile']}"
      ]
     },
     "execution_count": 22,
     "metadata": {},
     "output_type": "execute_result"
    }
   ],
   "source": [
    "# show the dictionary data\n",
    "datadict"
   ]
  },
  {
   "cell_type": "code",
   "execution_count": 23,
   "metadata": {},
   "outputs": [
    {
     "name": "stdout",
     "output_type": "stream",
     "text": [
      "('sample-1', [56, 'green', 'angry'])\n",
      "('sample-2', [76, 'green', 'docile'])\n",
      "('sample-3', [22, 'red', 'angry'])\n",
      "('sample-4', [21, 'red', 'docile'])\n"
     ]
    }
   ],
   "source": [
    "# .items() returns key,val pairs as tuples\n",
    "for item in datadict.items():\n",
    "    print(item)"
   ]
  },
  {
   "cell_type": "code",
   "execution_count": 24,
   "metadata": {},
   "outputs": [
    {
     "name": "stdout",
     "output_type": "stream",
     "text": [
      "sample-1\n",
      "sample-2\n",
      "sample-3\n",
      "sample-4\n"
     ]
    }
   ],
   "source": [
    "# .keys() returns just the keys\n",
    "for key in datadict.keys():\n",
    "    print(key)"
   ]
  },
  {
   "cell_type": "code",
   "execution_count": 25,
   "metadata": {},
   "outputs": [
    {
     "name": "stdout",
     "output_type": "stream",
     "text": [
      "[56, 'green', 'angry']\n",
      "[76, 'green', 'docile']\n",
      "[22, 'red', 'angry']\n",
      "[21, 'red', 'docile']\n"
     ]
    }
   ],
   "source": [
    "# .values returns just the values\n",
    "for val in datadict.values():\n",
    "    print(val)"
   ]
  },
  {
   "cell_type": "markdown",
   "metadata": {},
   "source": [
    "### list comprehension\n",
    "\n",
    "Just as you can use \"list-comprehension\" with lists, you can create dictionaries using \"dict comprehension\". This is simply a more efficient way to write code sometimes as opposed to writing a for-loop. The format can be thought of as: [`append this thing` as we iterate through `each thing` from a `container of things`]. "
   ]
  },
  {
   "cell_type": "code",
   "execution_count": 26,
   "metadata": {},
   "outputs": [
    {
     "data": {
      "text/plain": [
       "[0, 1, 2, 3, 4, 5, 6, 7, 8, 9]"
      ]
     },
     "execution_count": 26,
     "metadata": {},
     "output_type": "execute_result"
    }
   ],
   "source": [
    "# list-comprehension example for list objects\n",
    "newlist = [i for i in range(10)]\n",
    "newlist"
   ]
  },
  {
   "cell_type": "code",
   "execution_count": 27,
   "metadata": {},
   "outputs": [
    {
     "data": {
      "text/plain": [
       "{'a': 1, 'b': 2, 'c': 3}"
      ]
     },
     "execution_count": 27,
     "metadata": {},
     "output_type": "execute_result"
    }
   ],
   "source": [
    "# list comprehension for a dictionary from a list of lists\n",
    "ddict = {i: j for (i, j) in [['a', 1], ['b', 2], ['c', 3]]}\n",
    "ddict"
   ]
  },
  {
   "cell_type": "code",
   "execution_count": 28,
   "metadata": {},
   "outputs": [
    {
     "data": {
      "text/plain": [
       "{'a': 1, 'b': 2, 'c': 3}"
      ]
     },
     "execution_count": 28,
     "metadata": {},
     "output_type": "execute_result"
    }
   ],
   "source": [
    "# another example using the Python function 'zip' which iterates over 2 or more iterables.\n",
    "keys = ['a', 'b', 'c']\n",
    "vals = [1, 2, 3]\n",
    "{i: j for (i, j) in zip(keys, vals)}"
   ]
  },
  {
   "cell_type": "markdown",
   "metadata": {},
   "source": [
    "### Assessment"
   ]
  },
  {
   "cell_type": "markdown",
   "metadata": {},
   "source": [
    "<div class=\"alert alert-success\">\n",
    "    <b>Action [2]:</b> \n",
    "    Create a dictionary where the keys are letters of the alphabet and the values record the number of occurrences of each letter in the string object below, as integers. (In other words, create a histogram.)\n",
    "</div>"
   ]
  },
  {
   "cell_type": "code",
   "execution_count": 19,
   "metadata": {},
   "outputs": [
    {
     "data": {
      "text/plain": [
       "{'l': 37,\n",
       " 'h': 33,\n",
       " 'f': 48,\n",
       " 'y': 35,\n",
       " 'v': 34,\n",
       " 'g': 40,\n",
       " 'k': 42,\n",
       " 'b': 50,\n",
       " 'd': 43,\n",
       " 's': 32,\n",
       " 'o': 33,\n",
       " 'x': 45,\n",
       " 'c': 52,\n",
       " 'e': 39,\n",
       " 'u': 32,\n",
       " 'j': 40,\n",
       " 'z': 35,\n",
       " 'i': 43,\n",
       " 'w': 31,\n",
       " 'n': 39,\n",
       " 't': 30,\n",
       " 'r': 36,\n",
       " 'a': 42,\n",
       " 'q': 38,\n",
       " 'm': 36,\n",
       " 'p': 35}"
      ]
     },
     "execution_count": 19,
     "metadata": {},
     "output_type": "execute_result"
    }
   ],
   "source": [
    "# module with variable for all letters in alphabet\n",
    "import string\n",
    "\n",
    "# random string of text\n",
    "letters = random.choices(string.ascii_lowercase, k=1000)\n",
    "\n",
    "# create your dictionary here.\n",
    "\n",
    "alphabet = {}\n",
    "\n",
    "for letter in letters:\n",
    "    if letter not in alphabet:\n",
    "        alphabet[letter] = 1\n",
    "\n",
    "    else:\n",
    "        alphabet[letter] += 1\n",
    "\n",
    "alphabet"
   ]
  },
  {
   "cell_type": "markdown",
   "metadata": {},
   "source": [
    "<div class=\"alert alert-success\">\n",
    "    <b>Action [3]:</b> \n",
    "    In the cell below calculate the time it takes to retrieve one element from this dictionary. \n",
    "</div>"
   ]
  },
  {
   "cell_type": "code",
   "execution_count": 24,
   "metadata": {},
   "outputs": [
    {
     "name": "stdout",
     "output_type": "stream",
     "text": [
      "31.4 ns ± 0.148 ns per loop (mean ± std. dev. of 7 runs, 10,000,000 loops each)\n"
     ]
    }
   ],
   "source": [
    "%%timeit\n",
    "alphabet.get(letter)"
   ]
  },
  {
   "cell_type": "code",
   "execution_count": null,
   "metadata": {},
   "outputs": [],
   "source": []
  }
 ],
 "metadata": {
  "kernelspec": {
   "display_name": "Python 3 (ipykernel)",
   "language": "python",
   "name": "python3"
  },
  "language_info": {
   "codemirror_mode": {
    "name": "ipython",
    "version": 3
   },
   "file_extension": ".py",
   "mimetype": "text/x-python",
   "name": "python",
   "nbconvert_exporter": "python",
   "pygments_lexer": "ipython3",
   "version": "3.12.2"
  }
 },
 "nbformat": 4,
 "nbformat_minor": 4
}
